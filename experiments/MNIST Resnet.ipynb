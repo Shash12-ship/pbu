{
 "cells": [
  {
   "cell_type": "markdown",
   "metadata": {},
   "source": [
    "# Important libraries"
   ]
  },
  {
   "cell_type": "code",
   "execution_count": 1,
   "metadata": {},
   "outputs": [],
   "source": [
    "import numpy as np\n",
    "import torch\n",
    "import torch.nn as nn\n",
    "from torch.nn import functional as F\n",
    "import torch.optim as optim\n",
    "import torchvision.transforms as transforms\n",
    "from torch.utils.data import DataLoader, SubsetRandomSampler\n",
    "from torchvision.datasets import MNIST\n",
    "from torchvision.models import resnet18\n",
    "from torch.utils.data import DataLoader\n",
    "from torchvision import datasets, transforms\n",
    "\n",
    "# from nngeometry.metrics import FIM\n",
    "# from nngeometry.object import PMatDiag, PVector\n",
    "from models.models import CustomResNet18\n",
    "from utils.helper import testdatasplit, compute_unlearned_predictions\n",
    "from utils.mi_attack import get_membership_attack_prob\n",
    "from utils.regularizer import PBU_reg\n",
    "\n",
    "import optuna\n",
    "torch.manual_seed(44)\n",
    "\n",
    "if torch.cuda.is_available() == True:\n",
    "    device = 'cuda:1'    \n",
    "else:\n",
    "    device = 'cpu'"
   ]
  },
  {
   "cell_type": "markdown",
   "metadata": {},
   "source": [
    "## Initial Training\n"
   ]
  },
  {
   "cell_type": "markdown",
   "metadata": {},
   "source": [
    "#### Dataset Preperation"
   ]
  },
  {
   "cell_type": "code",
   "execution_count": 5,
   "metadata": {},
   "outputs": [
    {
     "name": "stderr",
     "output_type": "stream",
     "text": [
      "/home/ece/anaconda3/envs/pt-gpu/lib/python3.9/site-packages/torchvision/models/_utils.py:208: UserWarning: The parameter 'pretrained' is deprecated since 0.13 and may be removed in the future, please use 'weights' instead.\n",
      "  warnings.warn(\n",
      "/home/ece/anaconda3/envs/pt-gpu/lib/python3.9/site-packages/torchvision/models/_utils.py:223: UserWarning: Arguments other than a weight enum or `None` for 'weights' are deprecated since 0.13 and may be removed in the future. The current behavior is equivalent to passing `weights=ResNet18_Weights.IMAGENET1K_V1`. You can also use `weights=ResNet18_Weights.DEFAULT` to get the most up-to-date weights.\n",
      "  warnings.warn(msg)\n"
     ]
    }
   ],
   "source": [
    "# Define transformations and load MNIST dataset \n",
    "    # Correction Do the normalization of data\n",
    "transform = transforms.Compose([\n",
    "    transforms.ToTensor(),\n",
    "    transforms.Normalize((0.1307,), (0.3081,))])\n",
    "\n",
    "train_dataset = MNIST(root='/home/ece/Subhodip/data', train=True, download=False, transform=transform)\n",
    "test_dataset = MNIST(root='/home/ece/Subhodip/data', train=False, download=False, transform=transform)\n",
    "\n",
    "# Set up data loaders\n",
    "batch_size = 48\n",
    "train_loader = DataLoader(dataset=train_dataset, batch_size=batch_size, shuffle=True)\n",
    "test_loader = DataLoader(dataset=test_dataset, batch_size=batch_size, shuffle=False)\n",
    "\n",
    "#Initial Model Training\n",
    "\n",
    "model = CustomResNet18().to(device)\n",
    "criterion = nn.CrossEntropyLoss()\n",
    "optimizer = optim.Adam(model.parameters(), lr=0.0001)\n",
    "\n",
    "# Training loop\n",
    "num_epochs = 10"
   ]
  },
  {
   "cell_type": "markdown",
   "metadata": {},
   "source": [
    "#### training loop"
   ]
  },
  {
   "cell_type": "code",
   "execution_count": 97,
   "metadata": {},
   "outputs": [
    {
     "name": "stdout",
     "output_type": "stream",
     "text": [
      "Epoch 1/10, Test Accuracy: 0.9762\n",
      "Epoch 2/10, Test Accuracy: 0.9819\n",
      "Epoch 3/10, Test Accuracy: 0.9878\n",
      "Epoch 4/10, Test Accuracy: 0.9874\n",
      "Epoch 5/10, Test Accuracy: 0.9863\n",
      "Epoch 6/10, Test Accuracy: 0.9889\n",
      "Epoch 7/10, Test Accuracy: 0.9908\n",
      "Epoch 8/10, Test Accuracy: 0.9912\n",
      "Epoch 9/10, Test Accuracy: 0.9899\n",
      "Epoch 10/10, Test Accuracy: 0.9918\n"
     ]
    }
   ],
   "source": [
    "\n",
    "for epoch in range(num_epochs):\n",
    "    model.train()\n",
    "    for images, labels in train_loader:\n",
    "        images, labels = images.to(device), labels.to(device)\n",
    "        optimizer.zero_grad()\n",
    "        outputs = model(images)\n",
    "        loss = criterion(outputs, labels)\n",
    "        loss.backward()\n",
    "        optimizer.step()\n",
    "\n",
    "    # Evaluation on the test set\n",
    "    model.eval()\n",
    "    correct = 0\n",
    "    total = 0\n",
    "    with torch.no_grad():\n",
    "        for images, labels in test_loader:\n",
    "            images, labels = images.to(device), labels.to(device)\n",
    "            outputs = model(images)\n",
    "            _, predicted = torch.max(outputs, 1)\n",
    "            total += labels.size(0)\n",
    "            correct += (predicted == labels).sum().item()\n",
    "\n",
    "    accuracy = correct / total\n",
    "    print(f'Epoch {epoch + 1}/{num_epochs}, Test Accuracy: {accuracy:.4f}')\n",
    "    # print(f'Test Accuracy after {num_epochs} epochs: {accuracy * 100:.4f}')\n",
    "\n",
    "# Save the trained model\n",
    "torch.save(model.state_dict(), './checkpoints/resnet18_mnist.pth')\n"
   ]
  },
  {
   "cell_type": "markdown",
   "metadata": {},
   "source": [
    "\n",
    " For class-2"
   ]
  },
  {
   "cell_type": "code",
   "execution_count": 99,
   "metadata": {},
   "outputs": [],
   "source": [
    "two_loader, non_twoloader = testdatasplit(class_number=2, testdata=test_dataset)"
   ]
  },
  {
   "cell_type": "code",
   "execution_count": 100,
   "metadata": {},
   "outputs": [
    {
     "data": {
      "text/plain": [
       "<All keys matched successfully>"
      ]
     },
     "execution_count": 100,
     "metadata": {},
     "output_type": "execute_result"
    }
   ],
   "source": [
    "init_trained_model = CustomResNet18().to(device)\n",
    "#Load the initial model state\n",
    "init_model_state_dict = torch.load('/home/ece/Subhodip/Unlearning/Unlearning_NN_Repair/experiments/experiments_mnist/checkpoints/resnet18_mnist.pth')\n",
    "init_trained_model.load_state_dict(init_model_state_dict)\n"
   ]
  },
  {
   "cell_type": "code",
   "execution_count": 101,
   "metadata": {},
   "outputs": [
    {
     "name": "stdout",
     "output_type": "stream",
     "text": [
      "Accuracy on Three: 99.13%\n",
      "Accuracy on Non-Three: 99.19%\n"
     ]
    },
    {
     "data": {
      "text/plain": [
       "(0.9912790697674418, 0.9918599464763604)"
      ]
     },
     "execution_count": 101,
     "metadata": {},
     "output_type": "execute_result"
    }
   ],
   "source": [
    "compute_unlearned_predictions(model=init_trained_model, three_test_loader=two_loader, \n",
    "                              nonthree_test_loader= non_twoloader)"
   ]
  },
  {
   "cell_type": "markdown",
   "metadata": {},
   "source": [
    "For class-6"
   ]
  },
  {
   "cell_type": "code",
   "execution_count": 102,
   "metadata": {},
   "outputs": [],
   "source": [
    "four_loader, non_fourloader = testdatasplit(class_number=6, testdata=test_dataset)"
   ]
  },
  {
   "cell_type": "code",
   "execution_count": 103,
   "metadata": {},
   "outputs": [
    {
     "data": {
      "text/plain": [
       "<All keys matched successfully>"
      ]
     },
     "execution_count": 103,
     "metadata": {},
     "output_type": "execute_result"
    }
   ],
   "source": [
    "init_trained_model = CustomResNet18().to(device)\n",
    "#Load the initial model state\n",
    "init_model_state_dict = torch.load('/home/ece/Subhodip/Unlearning/Unlearning_NN_Repair/experiments/experiments_mnist/checkpoints/resnet18_mnist.pth')\n",
    "init_trained_model.load_state_dict(init_model_state_dict)\n"
   ]
  },
  {
   "cell_type": "code",
   "execution_count": 104,
   "metadata": {},
   "outputs": [
    {
     "name": "stdout",
     "output_type": "stream",
     "text": [
      "Accuracy on Three: 99.27%\n",
      "Accuracy on Non-Three: 99.17%\n"
     ]
    },
    {
     "data": {
      "text/plain": [
       "(0.9926931106471816, 0.9917053749170538)"
      ]
     },
     "execution_count": 104,
     "metadata": {},
     "output_type": "execute_result"
    }
   ],
   "source": [
    "compute_unlearned_predictions(model=init_trained_model, three_test_loader=four_loader, \n",
    "                              nonthree_test_loader= non_fourloader)"
   ]
  },
  {
   "cell_type": "markdown",
   "metadata": {},
   "source": [
    "For Class 8"
   ]
  },
  {
   "cell_type": "code",
   "execution_count": 105,
   "metadata": {},
   "outputs": [],
   "source": [
    "eight_loader, non_eightloader = testdatasplit(class_number=8, testdata=test_dataset)"
   ]
  },
  {
   "cell_type": "code",
   "execution_count": 106,
   "metadata": {},
   "outputs": [
    {
     "data": {
      "text/plain": [
       "<All keys matched successfully>"
      ]
     },
     "execution_count": 106,
     "metadata": {},
     "output_type": "execute_result"
    }
   ],
   "source": [
    "init_trained_model = CustomResNet18().to(device)\n",
    "#Load the initial model state\n",
    "init_model_state_dict = torch.load('/home/ece/Subhodip/Unlearning/Unlearning_NN_Repair/experiments/experiments_mnist/checkpoints/resnet18_mnist.pth')\n",
    "init_trained_model.load_state_dict(init_model_state_dict)"
   ]
  },
  {
   "cell_type": "code",
   "execution_count": 107,
   "metadata": {},
   "outputs": [
    {
     "name": "stdout",
     "output_type": "stream",
     "text": [
      "Accuracy on Three: 99.08%\n",
      "Accuracy on Non-Three: 99.19%\n"
     ]
    },
    {
     "data": {
      "text/plain": [
       "(0.9907597535934292, 0.991912253489918)"
      ]
     },
     "execution_count": 107,
     "metadata": {},
     "output_type": "execute_result"
    }
   ],
   "source": [
    "compute_unlearned_predictions(model=init_trained_model, three_test_loader=eight_loader, \n",
    "                              nonthree_test_loader= non_eightloader)"
   ]
  },
  {
   "cell_type": "markdown",
   "metadata": {},
   "source": [
    "# Retraining"
   ]
  },
  {
   "cell_type": "markdown",
   "metadata": {},
   "source": [
    "For Class 8"
   ]
  },
  {
   "cell_type": "code",
   "execution_count": 108,
   "metadata": {},
   "outputs": [],
   "source": [
    "retrain_model = CustomResNet18().to(device)\n",
    "ret_optimizer = optim.Adam(retrain_model.parameters(), lr=0.001)\n"
   ]
  },
  {
   "cell_type": "code",
   "execution_count": 109,
   "metadata": {},
   "outputs": [
    {
     "name": "stdout",
     "output_type": "stream",
     "text": [
      "Test Accuracy after 0\\10 epochs: 89.1600\n",
      "Test Accuracy after 1\\10 epochs: 89.0100\n",
      "Test Accuracy after 2\\10 epochs: 89.3000\n",
      "Test Accuracy after 3\\10 epochs: 89.3700\n",
      "Test Accuracy after 4\\10 epochs: 89.1400\n",
      "Test Accuracy after 5\\10 epochs: 89.3700\n",
      "Test Accuracy after 6\\10 epochs: 89.5600\n",
      "Test Accuracy after 7\\10 epochs: 89.4200\n",
      "Test Accuracy after 8\\10 epochs: 89.5400\n",
      "Test Accuracy after 9\\10 epochs: 89.2200\n"
     ]
    }
   ],
   "source": [
    "\n",
    "# Training loop\n",
    "num_epochs = 10\n",
    "for epoch in range(num_epochs):\n",
    "    retrain_model.train()\n",
    "    for images, labels in train_loader:\n",
    "        # Exclude samples belonging to class 3\n",
    "        non_class3_mask = labels != 8 # Assuming class 3 is labeled as 2\n",
    "        images, labels = images[non_class3_mask], labels[non_class3_mask]\n",
    "\n",
    "        images, labels = images.to(device), labels.to(device)\n",
    "        ret_optimizer.zero_grad()\n",
    "        outputs = retrain_model(images)\n",
    "        loss = criterion(outputs, labels)\n",
    "        loss.backward()\n",
    "        ret_optimizer.step()\n",
    "\n",
    "    # Evaluation on the test set after all epochs are completed\n",
    "    retrain_model.eval()\n",
    "    correct = 0\n",
    "    total = 0\n",
    "    with torch.no_grad():\n",
    "        for images, labels in test_loader:\n",
    "            images, labels = images.to(device), labels.to(device)\n",
    "            outputs = retrain_model(images)\n",
    "            _, predicted = torch.max(outputs, 1)\n",
    "            total += labels.size(0)\n",
    "            correct += (predicted == labels).sum().item()\n",
    "    \n",
    "    accuracy = correct / total\n",
    "    print(f'Test Accuracy after {epoch}\\{num_epochs} epochs: {accuracy * 100:.4f}')"
   ]
  },
  {
   "cell_type": "code",
   "execution_count": 110,
   "metadata": {},
   "outputs": [],
   "source": [
    "eight_loader, non_eightloader = testdatasplit(class_number=8, testdata=test_dataset)"
   ]
  },
  {
   "cell_type": "code",
   "execution_count": 111,
   "metadata": {},
   "outputs": [
    {
     "name": "stdout",
     "output_type": "stream",
     "text": [
      "Accuracy on Three: 0.00%\n",
      "Accuracy on Non-Three: 98.85%\n"
     ]
    },
    {
     "data": {
      "text/plain": [
       "(0.0, 0.9884777309993352)"
      ]
     },
     "execution_count": 111,
     "metadata": {},
     "output_type": "execute_result"
    }
   ],
   "source": [
    "compute_unlearned_predictions(model=retrain_model, three_test_loader=eight_loader, \n",
    "                              nonthree_test_loader= non_eightloader)"
   ]
  },
  {
   "cell_type": "markdown",
   "metadata": {},
   "source": [
    "For class 6"
   ]
  },
  {
   "cell_type": "code",
   "execution_count": 37,
   "metadata": {},
   "outputs": [],
   "source": [
    "retrain_model = CustomResNet18().to(device)\n",
    "ret_optimizer = optim.Adam(retrain_model.parameters(), lr=0.001)\n"
   ]
  },
  {
   "cell_type": "code",
   "execution_count": 112,
   "metadata": {},
   "outputs": [
    {
     "name": "stdout",
     "output_type": "stream",
     "text": [
      "Test Accuracy after 10 epochs: 89.3700\n",
      "Test Accuracy after 10 epochs: 89.8000\n",
      "Test Accuracy after 10 epochs: 89.7700\n",
      "Test Accuracy after 10 epochs: 89.8700\n",
      "Test Accuracy after 10 epochs: 89.6800\n",
      "Test Accuracy after 10 epochs: 89.7500\n",
      "Test Accuracy after 10 epochs: 89.7900\n",
      "Test Accuracy after 10 epochs: 89.8500\n",
      "Test Accuracy after 10 epochs: 90.0200\n",
      "Test Accuracy after 10 epochs: 89.0100\n"
     ]
    }
   ],
   "source": [
    "\n",
    "# Training loop\n",
    "num_epochs = 10\n",
    "for epoch in range(num_epochs):\n",
    "    retrain_model.train()\n",
    "    for images, labels in train_loader:\n",
    "        # Exclude samples belonging to class 3\n",
    "        non_class3_mask = labels != 6 # Assuming class 3 is labeled as 2\n",
    "        images, labels = images[non_class3_mask], labels[non_class3_mask]\n",
    "\n",
    "        images, labels = images.to(device), labels.to(device)\n",
    "        ret_optimizer.zero_grad()\n",
    "        outputs = retrain_model(images)\n",
    "        loss = criterion(outputs, labels)\n",
    "        loss.backward()\n",
    "        ret_optimizer.step()\n",
    "\n",
    "    # Evaluation on the test set after all epochs are completed\n",
    "    retrain_model.eval()\n",
    "    correct = 0\n",
    "    total = 0\n",
    "    with torch.no_grad():\n",
    "        for images, labels in test_loader:\n",
    "            images, labels = images.to(device), labels.to(device)\n",
    "            outputs = retrain_model(images)\n",
    "            _, predicted = torch.max(outputs, 1)\n",
    "            total += labels.size(0)\n",
    "            correct += (predicted == labels).sum().item()\n",
    "\n",
    "    accuracy = correct / total\n",
    "    print(f'Test Accuracy after {num_epochs} epochs: {accuracy * 100:.4f}')"
   ]
  },
  {
   "cell_type": "code",
   "execution_count": 113,
   "metadata": {},
   "outputs": [],
   "source": [
    "eight_loader, non_eightloader = testdatasplit(class_number=6, testdata=test_dataset)"
   ]
  },
  {
   "cell_type": "code",
   "execution_count": 114,
   "metadata": {},
   "outputs": [
    {
     "name": "stdout",
     "output_type": "stream",
     "text": [
      "Accuracy on Three: 0.00%\n",
      "Accuracy on Non-Three: 98.44%\n"
     ]
    },
    {
     "data": {
      "text/plain": [
       "(0.0, 0.9844061048440611)"
      ]
     },
     "execution_count": 114,
     "metadata": {},
     "output_type": "execute_result"
    }
   ],
   "source": [
    "compute_unlearned_predictions(model=retrain_model, three_test_loader=eight_loader, \n",
    "                              nonthree_test_loader= non_eightloader)"
   ]
  },
  {
   "cell_type": "markdown",
   "metadata": {},
   "source": [
    "Class 2"
   ]
  },
  {
   "cell_type": "code",
   "execution_count": 119,
   "metadata": {},
   "outputs": [],
   "source": [
    "retrain_model = CustomResNet18().to(device)\n",
    "ret_optimizer = optim.Adam(retrain_model.parameters(), lr=0.001)"
   ]
  },
  {
   "cell_type": "code",
   "execution_count": 120,
   "metadata": {},
   "outputs": [
    {
     "name": "stdout",
     "output_type": "stream",
     "text": [
      "Test Accuracy after 10 epochs: 88.0500\n",
      "Test Accuracy after 10 epochs: 88.6000\n",
      "Test Accuracy after 10 epochs: 84.7200\n",
      "Test Accuracy after 10 epochs: 88.8300\n",
      "Test Accuracy after 10 epochs: 88.3100\n",
      "Test Accuracy after 10 epochs: 88.8400\n",
      "Test Accuracy after 10 epochs: 88.9900\n",
      "Test Accuracy after 10 epochs: 89.0100\n",
      "Test Accuracy after 10 epochs: 88.9400\n",
      "Test Accuracy after 10 epochs: 88.7500\n"
     ]
    }
   ],
   "source": [
    "\n",
    "# Training loop\n",
    "num_epochs = 10\n",
    "for epoch in range(num_epochs):\n",
    "    retrain_model.train()\n",
    "    for images, labels in train_loader:\n",
    "        # Exclude samples belonging to class 3\n",
    "        non_class3_mask = labels != 2 # Assuming class 3 is labeled as 2\n",
    "        images, labels = images[non_class3_mask], labels[non_class3_mask]\n",
    "\n",
    "        images, labels = images.to(device), labels.to(device)\n",
    "        ret_optimizer.zero_grad()\n",
    "        outputs = retrain_model(images)\n",
    "        loss = criterion(outputs, labels)\n",
    "        loss.backward()\n",
    "        ret_optimizer.step()\n",
    "\n",
    "    # Evaluation on the test set after all epochs are completed\n",
    "    retrain_model.eval()\n",
    "    correct = 0\n",
    "    total = 0\n",
    "    with torch.no_grad():\n",
    "        for images, labels in test_loader:\n",
    "            images, labels = images.to(device), labels.to(device)\n",
    "            outputs = retrain_model(images)\n",
    "            _, predicted = torch.max(outputs, 1)\n",
    "            total += labels.size(0)\n",
    "            correct += (predicted == labels).sum().item()\n",
    "\n",
    "    accuracy = correct / total\n",
    "    print(f'Test Accuracy after {num_epochs} epochs: {accuracy * 100:.4f}')"
   ]
  },
  {
   "cell_type": "code",
   "execution_count": 121,
   "metadata": {},
   "outputs": [],
   "source": [
    "eight_loader, non_eightloader = testdatasplit(class_number=2, testdata=test_dataset)"
   ]
  },
  {
   "cell_type": "code",
   "execution_count": 122,
   "metadata": {},
   "outputs": [
    {
     "name": "stdout",
     "output_type": "stream",
     "text": [
      "Accuracy on Three: 0.00%\n",
      "Accuracy on Non-Three: 98.96%\n"
     ]
    },
    {
     "data": {
      "text/plain": [
       "(0.0, 0.9896297948260482)"
      ]
     },
     "execution_count": 122,
     "metadata": {},
     "output_type": "execute_result"
    }
   ],
   "source": [
    "compute_unlearned_predictions(model=retrain_model, three_test_loader=eight_loader, \n",
    "                              nonthree_test_loader= non_eightloader)"
   ]
  },
  {
   "cell_type": "markdown",
   "metadata": {},
   "source": [
    "# Fine Tuning"
   ]
  },
  {
   "cell_type": "markdown",
   "metadata": {},
   "source": [
    "Class 2"
   ]
  },
  {
   "cell_type": "code",
   "execution_count": 123,
   "metadata": {},
   "outputs": [
    {
     "data": {
      "text/plain": [
       "<All keys matched successfully>"
      ]
     },
     "execution_count": 123,
     "metadata": {},
     "output_type": "execute_result"
    }
   ],
   "source": [
    "finetune_model = CustomResNet18().to(device)\n",
    "fin_optimizer = optim.Adam(finetune_model.parameters(), lr=0.001)\n",
    "#Load the initial model state\n",
    "init_model_state_dict = torch.load('/home/ece/Subhodip/Unlearning/Unlearning_NN_Repair/experiments/experiments_mnist/checkpoints/resnet18_mnist.pth')\n",
    "finetune_model.load_state_dict(init_model_state_dict)\n"
   ]
  },
  {
   "cell_type": "code",
   "execution_count": 124,
   "metadata": {},
   "outputs": [
    {
     "name": "stdout",
     "output_type": "stream",
     "text": [
      "Test Accuracy after fine-tuning: 99.1800\n",
      "Test Accuracy after fine-tuning: 99.1800\n",
      "Test Accuracy after fine-tuning: 99.1800\n",
      "Test Accuracy after fine-tuning: 99.1800\n",
      "Test Accuracy after fine-tuning: 99.1800\n",
      "Test Accuracy after fine-tuning: 99.1800\n",
      "Test Accuracy after fine-tuning: 99.1800\n",
      "Test Accuracy after fine-tuning: 99.1800\n",
      "Test Accuracy after fine-tuning: 99.1800\n",
      "Test Accuracy after fine-tuning: 99.1800\n"
     ]
    }
   ],
   "source": [
    "\n",
    "# Fine-tuning loop\n",
    "num_fine_tune_epochs = 10  # Adjust the number of fine-tuning epochs as needed\n",
    "for epoch in range(num_fine_tune_epochs):\n",
    "    finetune_model.train()\n",
    "    for images, labels in train_loader:\n",
    "        # Exclude samples belonging to class 3\n",
    "        non_class3_mask = labels != 2 # Assuming class 3 is labeled as 2\n",
    "        images, labels = images[non_class3_mask], labels[non_class3_mask]\n",
    "\n",
    "        images, labels = images.to(device), labels.to(device)\n",
    "        fin_optimizer.zero_grad()\n",
    "        outputs = finetune_model(images)\n",
    "        loss = criterion(outputs, labels)\n",
    "        loss.backward()\n",
    "        fin_optimizer.step()\n",
    "\n",
    "    # Evaluation on the test set after fine-tuning\n",
    "    finetune_model.eval()\n",
    "    correct = 0\n",
    "    total = 0\n",
    "    with torch.no_grad():\n",
    "        for images, labels in test_loader:\n",
    "            images, labels = images.to(device), labels.to(device)\n",
    "            outputs = model(images)\n",
    "            _, predicted = torch.max(outputs, 1)\n",
    "            total += labels.size(0)\n",
    "            correct += (predicted == labels).sum().item()\n",
    "    \n",
    "    accuracy = correct / total\n",
    "    print(f'Test Accuracy after fine-tuning: {accuracy * 100:.4f}')\n"
   ]
  },
  {
   "cell_type": "code",
   "execution_count": 125,
   "metadata": {},
   "outputs": [],
   "source": [
    "eight_loader, non_eightloader = testdatasplit(class_number=2, testdata=test_dataset)"
   ]
  },
  {
   "cell_type": "code",
   "execution_count": 126,
   "metadata": {},
   "outputs": [
    {
     "name": "stdout",
     "output_type": "stream",
     "text": [
      "Accuracy on Three: 0.00%\n",
      "Accuracy on Non-Three: 99.14%\n"
     ]
    },
    {
     "data": {
      "text/plain": [
       "(0.0, 0.9914139161462979)"
      ]
     },
     "execution_count": 126,
     "metadata": {},
     "output_type": "execute_result"
    }
   ],
   "source": [
    "compute_unlearned_predictions(model=finetune_model, three_test_loader=eight_loader, \n",
    "                              nonthree_test_loader= non_eightloader)"
   ]
  },
  {
   "cell_type": "markdown",
   "metadata": {},
   "source": [
    "Class 6"
   ]
  },
  {
   "cell_type": "code",
   "execution_count": 127,
   "metadata": {},
   "outputs": [
    {
     "data": {
      "text/plain": [
       "<All keys matched successfully>"
      ]
     },
     "execution_count": 127,
     "metadata": {},
     "output_type": "execute_result"
    }
   ],
   "source": [
    "finetune_model = CustomResNet18().to(device)\n",
    "fin_optimizer = optim.Adam(finetune_model.parameters(), lr=0.001)\n",
    "#Load the initial model state\n",
    "init_model_state_dict = torch.load('/home/ece/Subhodip/Unlearning/Unlearning_NN_Repair/experiments/experiments_mnist/checkpoints/resnet18_mnist.pth')\n",
    "finetune_model.load_state_dict(init_model_state_dict)\n"
   ]
  },
  {
   "cell_type": "code",
   "execution_count": 128,
   "metadata": {},
   "outputs": [
    {
     "name": "stdout",
     "output_type": "stream",
     "text": [
      "Test Accuracy after fine-tuning: 99.1800\n",
      "Test Accuracy after fine-tuning: 99.1800\n",
      "Test Accuracy after fine-tuning: 99.1800\n",
      "Test Accuracy after fine-tuning: 99.1800\n",
      "Test Accuracy after fine-tuning: 99.1800\n",
      "Test Accuracy after fine-tuning: 99.1800\n",
      "Test Accuracy after fine-tuning: 99.1800\n",
      "Test Accuracy after fine-tuning: 99.1800\n",
      "Test Accuracy after fine-tuning: 99.1800\n",
      "Test Accuracy after fine-tuning: 99.1800\n"
     ]
    }
   ],
   "source": [
    "\n",
    "# Fine-tuning loop\n",
    "num_fine_tune_epochs = 10  # Adjust the number of fine-tuning epochs as needed\n",
    "for epoch in range(num_fine_tune_epochs):\n",
    "    finetune_model.train()\n",
    "    for images, labels in train_loader:\n",
    "        # Exclude samples belonging to class 3\n",
    "        non_class3_mask = labels != 6 # Assuming class 3 is labeled as 2\n",
    "        images, labels = images[non_class3_mask], labels[non_class3_mask]\n",
    "\n",
    "        images, labels = images.to(device), labels.to(device)\n",
    "        fin_optimizer.zero_grad()\n",
    "        outputs = finetune_model(images)\n",
    "        loss = criterion(outputs, labels)\n",
    "        loss.backward()\n",
    "        fin_optimizer.step()\n",
    "\n",
    "    # Evaluation on the test set after fine-tuning\n",
    "    finetune_model.eval()\n",
    "    correct = 0\n",
    "    total = 0\n",
    "    with torch.no_grad():\n",
    "        for images, labels in test_loader:\n",
    "            images, labels = images.to(device), labels.to(device)\n",
    "            outputs = model(images)\n",
    "            _, predicted = torch.max(outputs, 1)\n",
    "            total += labels.size(0)\n",
    "            correct += (predicted == labels).sum().item()\n",
    "    \n",
    "    accuracy = correct / total\n",
    "    print(f'Test Accuracy after fine-tuning: {accuracy * 100:.4f}')\n"
   ]
  },
  {
   "cell_type": "code",
   "execution_count": 131,
   "metadata": {},
   "outputs": [],
   "source": [
    "eight_loader, non_eightloader = testdatasplit(class_number=6, testdata=test_dataset)"
   ]
  },
  {
   "cell_type": "code",
   "execution_count": 130,
   "metadata": {},
   "outputs": [
    {
     "name": "stdout",
     "output_type": "stream",
     "text": [
      "Accuracy on Three: 0.00%\n",
      "Accuracy on Non-Three: 99.29%\n"
     ]
    },
    {
     "data": {
      "text/plain": [
       "(0.0, 0.9929219199292192)"
      ]
     },
     "execution_count": 130,
     "metadata": {},
     "output_type": "execute_result"
    }
   ],
   "source": [
    "compute_unlearned_predictions(model=finetune_model, three_test_loader=eight_loader, \n",
    "                              nonthree_test_loader= non_eightloader)"
   ]
  },
  {
   "cell_type": "markdown",
   "metadata": {},
   "source": [
    "Class 8"
   ]
  },
  {
   "cell_type": "code",
   "execution_count": 132,
   "metadata": {},
   "outputs": [
    {
     "data": {
      "text/plain": [
       "<All keys matched successfully>"
      ]
     },
     "execution_count": 132,
     "metadata": {},
     "output_type": "execute_result"
    }
   ],
   "source": [
    "finetune_model = CustomResNet18().to(device)\n",
    "fin_optimizer = optim.Adam(finetune_model.parameters(), lr=0.001)\n",
    "#Load the initial model state\n",
    "init_model_state_dict = torch.load('/home/ece/Subhodip/Unlearning/Unlearning_NN_Repair/experiments/experiments_mnist/checkpoints/resnet18_mnist.pth')\n",
    "finetune_model.load_state_dict(init_model_state_dict)\n"
   ]
  },
  {
   "cell_type": "code",
   "execution_count": 133,
   "metadata": {},
   "outputs": [
    {
     "name": "stdout",
     "output_type": "stream",
     "text": [
      "Test Accuracy after fine-tuning: 99.1800\n",
      "Test Accuracy after fine-tuning: 99.1800\n",
      "Test Accuracy after fine-tuning: 99.1800\n",
      "Test Accuracy after fine-tuning: 99.1800\n",
      "Test Accuracy after fine-tuning: 99.1800\n",
      "Test Accuracy after fine-tuning: 99.1800\n",
      "Test Accuracy after fine-tuning: 99.1800\n",
      "Test Accuracy after fine-tuning: 99.1800\n",
      "Test Accuracy after fine-tuning: 99.1800\n",
      "Test Accuracy after fine-tuning: 99.1800\n"
     ]
    }
   ],
   "source": [
    "\n",
    "# Fine-tuning loop\n",
    "num_fine_tune_epochs = 10  # Adjust the number of fine-tuning epochs as needed\n",
    "for epoch in range(num_fine_tune_epochs):\n",
    "    finetune_model.train()\n",
    "    for images, labels in train_loader:\n",
    "        # Exclude samples belonging to class 3\n",
    "        non_class3_mask = labels != 8 # Assuming class 3 is labeled as 2\n",
    "        images, labels = images[non_class3_mask], labels[non_class3_mask]\n",
    "\n",
    "        images, labels = images.to(device), labels.to(device)\n",
    "        fin_optimizer.zero_grad()\n",
    "        outputs = finetune_model(images)\n",
    "        loss = criterion(outputs, labels)\n",
    "        loss.backward()\n",
    "        fin_optimizer.step()\n",
    "\n",
    "    # Evaluation on the test set after fine-tuning\n",
    "    finetune_model.eval()\n",
    "    correct = 0\n",
    "    total = 0\n",
    "    with torch.no_grad():\n",
    "        for images, labels in test_loader:\n",
    "            images, labels = images.to(device), labels.to(device)\n",
    "            outputs = model(images)\n",
    "            _, predicted = torch.max(outputs, 1)\n",
    "            total += labels.size(0)\n",
    "            correct += (predicted == labels).sum().item()\n",
    "    \n",
    "    accuracy = correct / total\n",
    "    print(f'Test Accuracy after fine-tuning: {accuracy * 100:.4f}')\n"
   ]
  },
  {
   "cell_type": "code",
   "execution_count": 134,
   "metadata": {},
   "outputs": [],
   "source": [
    "eight_loader, non_eightloader = testdatasplit(class_number=8, testdata=test_dataset)"
   ]
  },
  {
   "cell_type": "code",
   "execution_count": 135,
   "metadata": {},
   "outputs": [
    {
     "name": "stdout",
     "output_type": "stream",
     "text": [
      "Accuracy on Three: 0.00%\n",
      "Accuracy on Non-Three: 98.88%\n"
     ]
    },
    {
     "data": {
      "text/plain": [
       "(0.0, 0.9888101041435852)"
      ]
     },
     "execution_count": 135,
     "metadata": {},
     "output_type": "execute_result"
    }
   ],
   "source": [
    "compute_unlearned_predictions(model=finetune_model, three_test_loader=eight_loader, \n",
    "                              nonthree_test_loader= non_eightloader)"
   ]
  },
  {
   "cell_type": "markdown",
   "metadata": {},
   "source": [
    "# Our Method"
   ]
  },
  {
   "cell_type": "markdown",
   "metadata": {},
   "source": [
    "Here we take theta initial predictions - theta unlearned predictions in the matrices"
   ]
  },
  {
   "cell_type": "markdown",
   "metadata": {},
   "source": [
    "### Performace of best hyperparameters "
   ]
  },
  {
   "cell_type": "markdown",
   "metadata": {},
   "source": [
    "for class -6"
   ]
  },
  {
   "cell_type": "code",
   "execution_count": 137,
   "metadata": {},
   "outputs": [],
   "source": [
    "# Take the Negative/Unlearning data for class 3\n",
    "negative_train_dataset = [item for item in train_dataset if item[1] == 6]\n",
    "negative_train_loader = DataLoader(dataset=negative_train_dataset, batch_size=64, shuffle=True)\n",
    "\n",
    "# Divide the test loader into 2 parts: class 3 and non-class 3\n",
    "test_loader = DataLoader(dataset=test_dataset, batch_size=64, shuffle=False)\n",
    "test_threes_index = [i for i in range(len(test_dataset)) if test_dataset.targets[i] == 6]\n",
    "test_nonthrees_index = [i for i in range(len(test_dataset)) if test_dataset.targets[i] != 6]\n",
    "three_test_loader = DataLoader(test_dataset, batch_size=64, sampler=SubsetRandomSampler(test_threes_index))\n",
    "nonthree_test_loader = DataLoader(test_dataset, batch_size=64, sampler=SubsetRandomSampler(test_nonthrees_index))\n",
    "\n",
    "# Load the initial model state\n",
    "init_model_state_dict = torch.load('/home/ece/Subhodip/Unlearning/Unlearning_NN_Repair/experiments/experiments_mnist/checkpoints/resnet18_mnist.pth')\n",
    "\n",
    "# Create the initial and unlearned models\n",
    "init_model = CustomResNet18()\n",
    "init_model.load_state_dict(init_model_state_dict)\n",
    "init_model = init_model.to(device)\n",
    "\n",
    "unlearned_model = CustomResNet18()\n",
    "unlearned_model.load_state_dict(init_model_state_dict)\n",
    "unlearned_model = unlearned_model.to(device)\n"
   ]
  },
  {
   "cell_type": "code",
   "execution_count": 138,
   "metadata": {},
   "outputs": [
    {
     "name": "stdout",
     "output_type": "stream",
     "text": [
      "Epoch 1/5, Loss: -10215.20782405074\n",
      "Accuracy on Three: 0.10%\n",
      "Accuracy on Non-Three: 96.24%\n",
      "Accuracy on Three: 0.10%, Accuracy on Non-Three: 96.24%\n",
      "Epoch 2/5, Loss: -15078.176915322581\n",
      "Accuracy on Three: 0.00%\n",
      "Accuracy on Non-Three: 96.99%\n",
      "Accuracy on Three: 0.00%, Accuracy on Non-Three: 96.99%\n",
      "Epoch 3/5, Loss: -18910.96914902554\n",
      "Accuracy on Three: 0.00%\n",
      "Accuracy on Non-Three: 96.95%\n",
      "Accuracy on Three: 0.00%, Accuracy on Non-Three: 96.95%\n",
      "Epoch 4/5, Loss: -22358.59154485887\n",
      "Accuracy on Three: 0.00%\n",
      "Accuracy on Non-Three: 91.10%\n",
      "Accuracy on Three: 0.00%, Accuracy on Non-Three: 91.10%\n",
      "Epoch 5/5, Loss: -24871.396505376346\n",
      "Accuracy on Three: 0.00%\n",
      "Accuracy on Non-Three: 73.86%\n",
      "Accuracy on Three: 0.00%, Accuracy on Non-Three: 73.86%\n"
     ]
    }
   ],
   "source": [
    "# unlearning loop\n",
    "num_epochs = 5\n",
    "criterion = nn.CrossEntropyLoss()\n",
    "\n",
    "alpha = 721\n",
    "beta = 90\n",
    "gamma = 4001\n",
    "\n",
    "pbu = PBU_reg(init_model=init_model, unlearned_model=unlearned_model, train_loader=negative_train_loader,\n",
    "              Representation=PMatDiag, device=device)\n",
    "optimizer = optim.Adam(unlearned_model.parameters(), lr=0.0001)\n",
    "\n",
    "\n",
    "for epoch in range(num_epochs):\n",
    "    torch.cuda.empty_cache()\n",
    "    unlearned_model.train()\n",
    "    running_loss = 0.0\n",
    "    for inputs, labels in negative_train_loader:\n",
    "        inputs, labels = inputs.to(device), labels.to(device)\n",
    "        outputs = unlearned_model(inputs)\n",
    "        #negative ce term\n",
    "        negative_ce_loss = -criterion(outputs, labels)\n",
    "        # print('negative ce loss', negative_ce_loss)\n",
    "        \n",
    "        # pbu penalty term\n",
    "        pbu_loss = pbu.penalty()\n",
    "        # print('pbu_loss', pbu_loss)\n",
    "        \n",
    "        # Get the PVector representation for the unlearned model\n",
    "        init_pvector = PVector.from_model(init_model)\n",
    "        unlearned_pvector = PVector.from_model(unlearned_model)\n",
    "        # Compute the L2 loss between the initial and unlearned PVector\n",
    "        l2_loss = torch.sum((init_pvector.get_flat_representation() - unlearned_pvector.get_flat_representation()) ** 2)\n",
    "        # print('l2 loss', l2_loss)\n",
    "        # Compute the total loss using the specified formula and hyperparameters\n",
    "        \n",
    "        loss = alpha * negative_ce_loss + beta * pbu_loss + gamma * l2_loss\n",
    "        \n",
    "        optimizer.zero_grad()\n",
    "        loss.backward()\n",
    "        optimizer.step()\n",
    "        running_loss += loss.item()\n",
    "    print(f\"Epoch {epoch + 1}/{num_epochs}, Loss: {running_loss / len(negative_train_loader)}\")\n",
    "\n",
    "    # Compute accuracy after training\n",
    "    accuracy_three, accuracy_nonthree = compute_unlearned_predictions(unlearned_model, three_test_loader, nonthree_test_loader)\n",
    "    print(f\"Accuracy on Three: {accuracy_three * 100:.2f}%, Accuracy on Non-Three: {accuracy_nonthree * 100:.2f}%\")"
   ]
  },
  {
   "cell_type": "markdown",
   "metadata": {},
   "source": [
    "For class-2"
   ]
  },
  {
   "cell_type": "code",
   "execution_count": 18,
   "metadata": {},
   "outputs": [],
   "source": [
    "# Take the Negative/Unlearning data for class 3\n",
    "negative_train_dataset = [item for item in train_dataset if item[1] == 2]\n",
    "negative_train_loader = DataLoader(dataset=negative_train_dataset, batch_size=64, shuffle=True)\n",
    "\n",
    "# Divide the test loader into 2 parts: class 3 and non-class 3\n",
    "test_loader = DataLoader(dataset=test_dataset, batch_size=64, shuffle=False)\n",
    "test_threes_index = [i for i in range(len(test_dataset)) if test_dataset.targets[i] == 2]\n",
    "test_nonthrees_index = [i for i in range(len(test_dataset)) if test_dataset.targets[i] != 2]\n",
    "three_test_loader = DataLoader(test_dataset, batch_size=64, sampler=SubsetRandomSampler(test_threes_index))\n",
    "nonthree_test_loader = DataLoader(test_dataset, batch_size=64, sampler=SubsetRandomSampler(test_nonthrees_index))\n",
    "\n",
    "# Load the initial model state\n",
    "init_model_state_dict = torch.load('/home/ece/Subhodip/Unlearning/Unlearning_NN_Repair/experiments/experiments_mnist/checkpoints/resnet18_mnist.pth')\n",
    "\n",
    "# Create the initial and unlearned models\n",
    "init_model = CustomResNet18()\n",
    "init_model.load_state_dict(init_model_state_dict)\n",
    "init_model = init_model.to(device)\n",
    "\n",
    "unlearned_model = CustomResNet18()\n",
    "unlearned_model.load_state_dict(init_model_state_dict)\n",
    "unlearned_model = unlearned_model.to(device)"
   ]
  },
  {
   "cell_type": "code",
   "execution_count": 19,
   "metadata": {},
   "outputs": [
    {
     "name": "stdout",
     "output_type": "stream",
     "text": [
      "Epoch 1/5, Loss: -10353.159122548204\n",
      "Accuracy on Three: 0.39%\n",
      "Accuracy on Non-Three: 96.71%\n",
      "Accuracy on Three: 0.39%, Accuracy on Non-Three: 96.71%\n",
      "Epoch 2/5, Loss: -15750.382791722075\n",
      "Accuracy on Three: 0.00%\n",
      "Accuracy on Non-Three: 97.62%\n",
      "Accuracy on Three: 0.00%, Accuracy on Non-Three: 97.62%\n",
      "Epoch 3/5, Loss: -20119.733190658244\n",
      "Accuracy on Three: 0.00%\n",
      "Accuracy on Non-Three: 91.96%\n",
      "Accuracy on Three: 0.00%, Accuracy on Non-Three: 91.96%\n",
      "Epoch 4/5, Loss: -24136.202709441488\n",
      "Accuracy on Three: 0.00%\n",
      "Accuracy on Non-Three: 81.86%\n",
      "Accuracy on Three: 0.00%, Accuracy on Non-Three: 81.86%\n",
      "Epoch 5/5, Loss: -27556.37281831782\n",
      "Accuracy on Three: 0.00%\n",
      "Accuracy on Non-Three: 70.42%\n",
      "Accuracy on Three: 0.00%, Accuracy on Non-Three: 70.42%\n"
     ]
    }
   ],
   "source": [
    "# Training loop\n",
    "num_epochs = 5\n",
    "criterion = nn.CrossEntropyLoss()\n",
    "\n",
    "alpha = 631\n",
    "beta = 100\n",
    "gamma = 4001\n",
    "\n",
    "pbu = PBU_reg(init_model=init_model, unlearned_model=unlearned_model, train_loader=negative_train_loader,\n",
    "              Representation=PMatDiag, device=device)\n",
    "optimizer = optim.Adam(unlearned_model.parameters(), lr=0.0001)\n",
    "\n",
    "\n",
    "for epoch in range(num_epochs):\n",
    "    torch.cuda.empty_cache()\n",
    "    unlearned_model.train()\n",
    "    running_loss = 0.0\n",
    "    for inputs, labels in negative_train_loader:\n",
    "        inputs, labels = inputs.to(device), labels.to(device)\n",
    "        outputs = unlearned_model(inputs)\n",
    "        #negative ce term\n",
    "        negative_ce_loss = -criterion(outputs, labels)\n",
    "        # print('negative ce loss', negative_ce_loss)\n",
    "        \n",
    "        # PBU penalty term\n",
    "        pbu_loss = pbu.penalty()\n",
    "        # print('pbu_loss', pbu_loss)\n",
    "        \n",
    "        # Get the PVector representation for the unlearned model\n",
    "        init_pvector = PVector.from_model(init_model)\n",
    "        unlearned_pvector = PVector.from_model(unlearned_model)\n",
    "        # Compute the L2 loss between the initial and unlearned PVector\n",
    "        l2_loss = torch.sum((init_pvector.get_flat_representation() - unlearned_pvector.get_flat_representation()) ** 2)\n",
    "        # print('l2 loss', l2_loss)\n",
    "        # Compute the total loss using the specified formula and hyperparameters\n",
    "        \n",
    "        loss = alpha * negative_ce_loss + beta * pbu_loss + gamma * l2_loss\n",
    "        \n",
    "        optimizer.zero_grad()\n",
    "        loss.backward()\n",
    "        optimizer.step()\n",
    "        running_loss += loss.item()\n",
    "        \n",
    "    print(f\"Epoch {epoch + 1}/{num_epochs}, Loss: {running_loss / len(negative_train_loader)}\")\n",
    "\n",
    "    # Compute accuracy after training\n",
    "    accuracy_three, accuracy_nonthree = compute_unlearned_predictions(unlearned_model, three_test_loader, nonthree_test_loader)\n",
    "    print(f\"Accuracy on Three: {accuracy_three * 100:.2f}%, Accuracy on Non-Three: {accuracy_nonthree * 100:.2f}%\")"
   ]
  },
  {
   "cell_type": "markdown",
   "metadata": {},
   "source": [
    "For class-8"
   ]
  },
  {
   "cell_type": "code",
   "execution_count": 141,
   "metadata": {},
   "outputs": [],
   "source": [
    "# Take the Negative/Unlearning data for class 3\n",
    "negative_train_dataset = [item for item in train_dataset if item[1] == 8]\n",
    "negative_train_loader = DataLoader(dataset=negative_train_dataset, batch_size=64, shuffle=True)\n",
    "\n",
    "# Divide the test loader into 2 parts: class 3 and non-class 3\n",
    "test_loader = DataLoader(dataset=test_dataset, batch_size=64, shuffle=False)\n",
    "test_threes_index = [i for i in range(len(test_dataset)) if test_dataset.targets[i] == 8]\n",
    "test_nonthrees_index = [i for i in range(len(test_dataset)) if test_dataset.targets[i] != 8]\n",
    "three_test_loader = DataLoader(test_dataset, batch_size=64, sampler=SubsetRandomSampler(test_threes_index))\n",
    "nonthree_test_loader = DataLoader(test_dataset, batch_size=64, sampler=SubsetRandomSampler(test_nonthrees_index))\n",
    "\n",
    "# Load the initial model state\n",
    "init_model_state_dict = torch.load('/home/ece/Subhodip/Unlearning/Unlearning_NN_Repair/experiments/experiments_mnist/checkpoints/resnet18_mnist.pth')\n",
    "\n",
    "# Create the initial and unlearned models\n",
    "init_model = CustomResNet18()\n",
    "init_model.load_state_dict(init_model_state_dict)\n",
    "init_model = init_model.to(device)\n",
    "\n",
    "unlearned_model = CustomResNet18()\n",
    "unlearned_model.load_state_dict(init_model_state_dict)\n",
    "unlearned_model = unlearned_model.to(device)"
   ]
  },
  {
   "cell_type": "code",
   "execution_count": 142,
   "metadata": {},
   "outputs": [
    {
     "name": "stdout",
     "output_type": "stream",
     "text": [
      "Epoch 1/5, Loss: -9036.771272078804\n",
      "Accuracy on Three: 0.31%\n",
      "Accuracy on Non-Three: 97.91%\n",
      "Accuracy on Three: 0.31%, Accuracy on Non-Three: 97.91%\n",
      "Epoch 2/5, Loss: -13537.572987432066\n",
      "Accuracy on Three: 0.00%\n",
      "Accuracy on Non-Three: 97.74%\n",
      "Accuracy on Three: 0.00%, Accuracy on Non-Three: 97.74%\n",
      "Epoch 3/5, Loss: -16939.163903277855\n",
      "Accuracy on Three: 0.00%\n",
      "Accuracy on Non-Three: 97.20%\n",
      "Accuracy on Three: 0.00%, Accuracy on Non-Three: 97.20%\n",
      "Epoch 4/5, Loss: -19909.157969599186\n",
      "Accuracy on Three: 0.00%\n",
      "Accuracy on Non-Three: 95.49%\n",
      "Accuracy on Three: 0.00%, Accuracy on Non-Three: 95.49%\n",
      "Epoch 5/5, Loss: -22721.631666100544\n",
      "Accuracy on Three: 0.00%\n",
      "Accuracy on Non-Three: 80.22%\n",
      "Accuracy on Three: 0.00%, Accuracy on Non-Three: 80.22%\n"
     ]
    }
   ],
   "source": [
    "# Training loop\n",
    "num_epochs = 5\n",
    "criterion = nn.CrossEntropyLoss()\n",
    "\n",
    "alpha = 721\n",
    "beta = 100\n",
    "gamma = 4001\n",
    "\n",
    "pbu = PBU_reg(init_model=init_model, unlearned_model=unlearned_model, train_loader=negative_train_loader,\n",
    "              Representation=PMatDiag, device=device)\n",
    "optimizer = optim.Adam(unlearned_model.parameters(), lr=0.0001)\n",
    "\n",
    "\n",
    "for epoch in range(num_epochs):\n",
    "    torch.cuda.empty_cache()\n",
    "    unlearned_model.train()\n",
    "    running_loss = 0.0\n",
    "    for inputs, labels in negative_train_loader:\n",
    "        inputs, labels = inputs.to(device), labels.to(device)\n",
    "        outputs = unlearned_model(inputs)\n",
    "        #negative ce term\n",
    "        negative_ce_loss = -criterion(outputs, labels)\n",
    "        # print('negative ce loss', negative_ce_loss)\n",
    "        \n",
    "        # PBU penalty term\n",
    "        pbu_loss = pbu.penalty()\n",
    "        # print('pbu_loss', pbu_loss)\n",
    "        \n",
    "        # Get the PVector representation for the unlearned model\n",
    "        init_pvector = PVector.from_model(init_model)\n",
    "        unlearned_pvector = PVector.from_model(unlearned_model)\n",
    "        # Compute the L2 loss between the initial and unlearned PVector\n",
    "        l2_loss = torch.sum((init_pvector.get_flat_representation() - unlearned_pvector.get_flat_representation()) ** 2)\n",
    "        # print('l2 loss', l2_loss)\n",
    "        # Compute the total loss using the specified formula and hyperparameters\n",
    "        \n",
    "        loss = alpha * negative_ce_loss + beta * pbu_loss + gamma * l2_loss\n",
    "        \n",
    "        optimizer.zero_grad()\n",
    "        loss.backward()\n",
    "        optimizer.step()\n",
    "        running_loss += loss.item()\n",
    "    print(f\"Epoch {epoch + 1}/{num_epochs}, Loss: {running_loss / len(negative_train_loader)}\")\n",
    "\n",
    "    # Compute accuracy after training\n",
    "    accuracy_three, accuracy_nonthree = compute_unlearned_predictions(unlearned_model, three_test_loader, nonthree_test_loader)\n",
    "    print(f\"Accuracy on Three: {accuracy_three * 100:.2f}%, Accuracy on Non-Three: {accuracy_nonthree * 100:.2f}%\")"
   ]
  },
  {
   "cell_type": "markdown",
   "metadata": {},
   "source": [
    "### Membership Inference Attacks"
   ]
  },
  {
   "cell_type": "markdown",
   "metadata": {},
   "source": [
    "class-2"
   ]
  },
  {
   "cell_type": "code",
   "execution_count": 26,
   "metadata": {},
   "outputs": [
    {
     "name": "stderr",
     "output_type": "stream",
     "text": [
      "/home/ece/anaconda3/envs/pt-gpu/lib/python3.9/site-packages/torchvision/models/_utils.py:208: UserWarning: The parameter 'pretrained' is deprecated since 0.13 and may be removed in the future, please use 'weights' instead.\n",
      "  warnings.warn(\n",
      "/home/ece/anaconda3/envs/pt-gpu/lib/python3.9/site-packages/torchvision/models/_utils.py:223: UserWarning: Arguments other than a weight enum or `None` for 'weights' are deprecated since 0.13 and may be removed in the future. The current behavior is equivalent to passing `weights=ResNet18_Weights.IMAGENET1K_V1`. You can also use `weights=ResNet18_Weights.DEFAULT` to get the most up-to-date weights.\n",
      "  warnings.warn(msg)\n"
     ]
    }
   ],
   "source": [
    "# Take the Negative/Unlearning data for class 3\n",
    "negative_train_dataset = [item for item in train_dataset if item[1] == 2]\n",
    "negative_train_loader = DataLoader(dataset=negative_train_dataset, batch_size=64, shuffle=True)\n",
    "\n",
    "# Divide the test loader into 2 parts: class 3 and non-class 3\n",
    "test_loader = DataLoader(dataset=test_dataset, batch_size=64, shuffle=False)\n",
    "test_threes_index = [i for i in range(len(test_dataset)) if test_dataset.targets[i] == 2]\n",
    "test_nonthrees_index = [i for i in range(len(test_dataset)) if test_dataset.targets[i] != 2]\n",
    "three_test_loader = DataLoader(test_dataset, batch_size=64, sampler=SubsetRandomSampler(test_threes_index))\n",
    "nonthree_test_loader = DataLoader(test_dataset, batch_size=64, sampler=SubsetRandomSampler(test_nonthrees_index))\n",
    "\n",
    "# Load the initial model state\n",
    "init_model_state_dict = torch.load('/home/ece/Subhodip/Unlearning/Unlearning_NN_Repair/experiments/experiments_mnist/checkpoints/resnet18_mnist.pth')\n",
    "\n",
    "# Create the initial and unlearned models\n",
    "init_model = CustomResNet18()\n",
    "init_model.load_state_dict(init_model_state_dict)\n",
    "init_model = init_model.to(device)\n",
    "\n",
    "unlearned_model = CustomResNet18()\n",
    "unlearned_model.load_state_dict(init_model_state_dict)\n",
    "unlearned_model = unlearned_model.to(device)"
   ]
  },
  {
   "cell_type": "code",
   "execution_count": 34,
   "metadata": {},
   "outputs": [
    {
     "data": {
      "text/plain": [
       "0.2389"
      ]
     },
     "execution_count": 34,
     "metadata": {},
     "output_type": "execute_result"
    }
   ],
   "source": [
    "get_membership_attack_prob(retain_loader=nonthree_test_loader, forget_loader=three_test_loader, \n",
    "                           test_loader=test_loader, model=unlearned_model)"
   ]
  },
  {
   "cell_type": "markdown",
   "metadata": {},
   "source": []
  },
  {
   "cell_type": "markdown",
   "metadata": {},
   "source": [
    "## Computational Complexity"
   ]
  },
  {
   "cell_type": "code",
   "execution_count": 37,
   "metadata": {},
   "outputs": [
    {
     "data": {
      "image/png": "[encoded data removed]",
      "text/plain": [
       "<Figure size 1296x720 with 1 Axes>"
      ]
     },
     "metadata": {
      "needs_background": "light"
     },
     "output_type": "display_data"
    }
   ],
   "source": [
    "import torch\n",
    "import torchvision.transforms as transforms\n",
    "from PIL import Image\n",
    "from torch import utils\n",
    "\n",
    "import matplotlib.pyplot as plt\n",
    "\n",
    "# Data\n",
    "models = ['Resnet-18', 'Resnet-34', 'Resnet-50', 'All-CNN']\n",
    "retraining = [10, 10, 10, 10]\n",
    "finetuning = [8.25, 8.25, 10, 10]\n",
    "fast_effective = [5, 5, 5, 5]\n",
    "bad_teaching = [4.5, 3.25, 3, 3.5]\n",
    "our_method = [2.6, 3.4, 2.16, 4.4]\n",
    "\n",
    "# Creating bars\n",
    "bar_width = 0.15\n",
    "index = range(len(models))\n",
    "\n",
    "fig, ax = plt.subplots(figsize=(18,10))\n",
    "bar_retraining = ax.bar(index, retraining, bar_width, label='Retraining')\n",
    "bar_finetuning = ax.bar([i + bar_width for i in index], finetuning, bar_width, label='Finetuning')\n",
    "bar_fast_effective = ax.bar([i + 2*bar_width for i in index], fast_effective, bar_width, label='Fast-Effective')\n",
    "bar_bad_teaching = ax.bar([i + 3*bar_width for i in index], bad_teaching, bar_width, label='Bad Teaching')\n",
    "bar_our_method = ax.bar([i + 4*bar_width for i in index], our_method, bar_width, label='Our Method')\n",
    "# Adding labels\n",
    "ax.set_xlabel('Models', fontsize=40)\n",
    "ax.set_ylabel('Computational Time per Epoch', fontsize=40)\n",
    "ax.set_title('Computational Time per Epoch for Different Models', fontsize=40)\n",
    "ax.set_xticks([i + 2 * bar_width for i in index])\n",
    "ax.set_xticklabels(models, fontsize=40)\n",
    "ax.legend(fontsize=15)\n",
    "\n",
    "# Increase font size of y-axis labels\n",
    "ax.tick_params(axis='y', labelsize=60)\n",
    "\n",
    "plt.xticks(rotation=45)\n",
    "# plt.tight_layout()\n",
    "\n",
    "# Convert plot to PyTorch tensor\n",
    "plt.savefig('temp_plot.png', format='png')\n",
    "image = Image.open('temp_plot.png')\n",
    "tensor = transforms.ToTensor()(image)\n",
    "\n",
    "# Save as JPEG image using PyTorch\n",
    "# save_image(tensor, 'computational_time_per_epoch_pytorch.pdf')\n",
    "\n",
    "plt.show()\n"
   ]
  },
  {
   "cell_type": "code",
   "execution_count": null,
   "metadata": {},
   "outputs": [],
   "source": []
  }
 ],
 "metadata": {
  "kernelspec": {
   "display_name": "pt-gpu",
   "language": "python",
   "name": "python3"
  },
  "language_info": {
   "codemirror_mode": {
    "name": "ipython",
    "version": 3
   },
   "file_extension": ".py",
   "mimetype": "text/x-python",
   "name": "python",
   "nbconvert_exporter": "python",
   "pygments_lexer": "ipython3",
   "version": "3.9.7"
  }
 },
 "nbformat": 4,
 "nbformat_minor": 2
}
